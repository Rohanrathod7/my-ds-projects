{
  "nbformat": 4,
  "nbformat_minor": 0,
  "metadata": {
    "colab": {
      "provenance": []
    },
    "kernelspec": {
      "name": "python3",
      "display_name": "Python 3"
    },
    "language_info": {
      "name": "python"
    }
  },
  "cells": [
    {
      "cell_type": "code",
      "execution_count": 1,
      "metadata": {
        "id": "gc7U6gtlem8Q"
      },
      "outputs": [],
      "source": [
        "import pandas as pd\n",
        "import numpy as np"
      ]
    },
    {
      "cell_type": "code",
      "source": [
        "customers = pd.read_csv('https://raw.githubusercontent.com/Rohanrathod7/my-ds-projects/main/02_data_manipulation/project_order_pipeline/Data/customers.csv')\n",
        "print(customers.head())\n",
        "products = pd.read_csv('https://raw.githubusercontent.com/Rohanrathod7/my-ds-projects/main/02_data_manipulation/project_order_pipeline/Data/products.csv')\n",
        "print(products.head())\n",
        "orders = pd.read_csv('https://raw.githubusercontent.com/Rohanrathod7/my-ds-projects/main/02_data_manipulation/project_order_pipeline/Data/orders.csv', parse_dates=['OrderDate'])\n",
        "print(orders.head())\n",
        "order_items = pd.read_csv('https://raw.githubusercontent.com/Rohanrathod7/my-ds-projects/main/02_data_manipulation/project_order_pipeline/Data/order_items.csv')\n",
        "print(order_items.head())\n",
        "shippings = pd.read_csv('https://raw.githubusercontent.com/Rohanrathod7/my-ds-projects/main/02_data_manipulation/project_order_pipeline/Data/shippings.csv', parse_dates=['ShippingDate'])\n",
        "print(shippings.head())"
      ],
      "metadata": {
        "colab": {
          "base_uri": "https://localhost:8080/"
        },
        "id": "xQoApgadequX",
        "outputId": "d59d78ce-c480-44f0-ebf1-fa697e6cf17b"
      },
      "execution_count": 4,
      "outputs": [
        {
          "output_type": "stream",
          "name": "stdout",
          "text": [
            "   CustomerID   CustomerName                        Email  \\\n",
            "0           1   William Tran      hessspencer@herring.net   \n",
            "1           2     Allen Ward  marieruiz@flores-conner.com   \n",
            "2           3  Shannon Perez        brownstacey@yahoo.com   \n",
            "3           4  Vanessa Walls   michaelmoore@roy-green.com   \n",
            "4           5     Shawn Mack      tiffanypaul@morales.com   \n",
            "\n",
            "                       Country  \n",
            "0            Equatorial Guinea  \n",
            "1                       Latvia  \n",
            "2                     Suriname  \n",
            "3  French Southern Territories  \n",
            "4                    Macedonia  \n",
            "   ProductID         ProductName     Category  UnitPrice\n",
            "0          1   Stock Electronics  Electronics      17.38\n",
            "1          2  President Clothing     Clothing     126.22\n",
            "2          3         Doctor Home         Home     369.55\n",
            "3          4          Fill Books        Books      48.03\n",
            "4          5           Some Toys         Toys      20.73\n",
            "   OrderID  CustomerID  OrderDate\n",
            "0        1          18 2025-04-10\n",
            "1        2          88 2025-03-10\n",
            "2        3          60 2025-02-13\n",
            "3        4          99 2025-07-22\n",
            "4        5          59 2025-02-16\n",
            "   OrderID  ProductID  Quantity  UnitPrice\n",
            "0        1         14         4     478.82\n",
            "1        1         30         1     108.71\n",
            "2        1          2         1     126.22\n",
            "3        1         50         1     498.68\n",
            "4        1         36         2     113.71\n",
            "   OrderID ShippingDate  ShippingDelay\n",
            "0        1   2025-04-13              3\n",
            "1        2   2025-03-20             10\n",
            "2        3   2025-02-18              5\n",
            "3        4   2025-07-25              3\n",
            "4        5   2025-02-25              9\n"
          ]
        }
      ]
    },
    {
      "cell_type": "code",
      "source": [
        "df = orders.merge(customers, on='CustomerID', how='left')\n",
        "df = df.merge(order_items, on='OrderID', how='left')\n",
        "df = df.merge(products, on='ProductID', how='left')\n",
        "df = df.merge(shippings, on='OrderID', how='left')\n",
        "\n",
        "print(df.head(10))"
      ],
      "metadata": {
        "colab": {
          "base_uri": "https://localhost:8080/"
        },
        "id": "MX9luJEOfYdB",
        "outputId": "16bb71fd-787f-43f2-95dd-2dcfff51650f"
      },
      "execution_count": 5,
      "outputs": [
        {
          "output_type": "stream",
          "name": "stdout",
          "text": [
            "   OrderID  CustomerID  OrderDate    CustomerName  \\\n",
            "0        1          18 2025-04-10     Terri White   \n",
            "1        1          18 2025-04-10     Terri White   \n",
            "2        1          18 2025-04-10     Terri White   \n",
            "3        1          18 2025-04-10     Terri White   \n",
            "4        1          18 2025-04-10     Terri White   \n",
            "5        2          88 2025-03-10      Mark Banks   \n",
            "6        2          88 2025-03-10      Mark Banks   \n",
            "7        2          88 2025-03-10      Mark Banks   \n",
            "8        2          88 2025-03-10      Mark Banks   \n",
            "9        3          60 2025-02-13  Christian Cook   \n",
            "\n",
            "                            Email                            Country  \\\n",
            "0             fbrown@woodward.org           Turks and Caicos Islands   \n",
            "1             fbrown@woodward.org           Turks and Caicos Islands   \n",
            "2             fbrown@woodward.org           Turks and Caicos Islands   \n",
            "3             fbrown@woodward.org           Turks and Caicos Islands   \n",
            "4             fbrown@woodward.org           Turks and Caicos Islands   \n",
            "5            zgilmore@hotmail.com  Heard Island and McDonald Islands   \n",
            "6            zgilmore@hotmail.com  Heard Island and McDonald Islands   \n",
            "7            zgilmore@hotmail.com  Heard Island and McDonald Islands   \n",
            "8            zgilmore@hotmail.com  Heard Island and McDonald Islands   \n",
            "9  campbellariana@davis-white.com                             Canada   \n",
            "\n",
            "   ProductID  Quantity  UnitPrice_x         ProductName  Category  \\\n",
            "0         14         4       478.82            Big Home      Home   \n",
            "1         30         1       108.71     Amount Clothing  Clothing   \n",
            "2          2         1       126.22  President Clothing  Clothing   \n",
            "3         50         1       498.68          Third Home      Home   \n",
            "4         36         2       113.71        Follow Books     Books   \n",
            "5         36         5       113.71        Follow Books     Books   \n",
            "6          9         1       212.66    Technology Books     Books   \n",
            "7          5         4        20.73           Some Toys      Toys   \n",
            "8         35         4       138.62            Job Toys      Toys   \n",
            "9         45         3        75.72           Pull Toys      Toys   \n",
            "\n",
            "   UnitPrice_y ShippingDate  ShippingDelay  \n",
            "0       478.82   2025-04-13              3  \n",
            "1       108.71   2025-04-13              3  \n",
            "2       126.22   2025-04-13              3  \n",
            "3       498.68   2025-04-13              3  \n",
            "4       113.71   2025-04-13              3  \n",
            "5       113.71   2025-03-20             10  \n",
            "6       212.66   2025-03-20             10  \n",
            "7        20.73   2025-03-20             10  \n",
            "8       138.62   2025-03-20             10  \n",
            "9        75.72   2025-02-18              5  \n"
          ]
        }
      ]
    },
    {
      "cell_type": "code",
      "source": [
        "df['OrderTotal'] = df['Quantity'] * df['UnitPrice_x']\n",
        "print(df['OrderTotal'].head())\n",
        "df['ShippingDelay'] = (df['ShippingDate'] - df['OrderDate']).dt.days\n",
        "print(df['ShippingDelay'].head())"
      ],
      "metadata": {
        "colab": {
          "base_uri": "https://localhost:8080/"
        },
        "id": "WsIsEj2ufjie",
        "outputId": "f5ca65be-5c01-42ec-d087-307b93ca49e4"
      },
      "execution_count": 10,
      "outputs": [
        {
          "output_type": "stream",
          "name": "stdout",
          "text": [
            "0    1915.28\n",
            "1     108.71\n",
            "2     126.22\n",
            "3     498.68\n",
            "4     227.42\n",
            "Name: OrderTotal, dtype: float64\n",
            "0    3\n",
            "1    3\n",
            "2    3\n",
            "3    3\n",
            "4    3\n",
            "Name: ShippingDelay, dtype: int64\n"
          ]
        }
      ]
    },
    {
      "cell_type": "code",
      "source": [
        "late_shipments = df.query('ShippingDelay > 5')\n",
        "print(late_shipments.head())\n",
        "top_customers = df.groupby(['CustomerID', 'CustomerName'])['OrderTotal'].sum().nlargest(10)\n",
        "print(top_customers)\n",
        "top_products = df.groupby('ProductName')['Quantity'].sum().nlargest(10)\n",
        "print(top_products)"
      ],
      "metadata": {
        "colab": {
          "base_uri": "https://localhost:8080/"
        },
        "id": "TCboI2nRghcQ",
        "outputId": "e9187633-517b-4042-f13a-64f7c9b16997"
      },
      "execution_count": 11,
      "outputs": [
        {
          "output_type": "stream",
          "name": "stdout",
          "text": [
            "    OrderID  CustomerID  OrderDate    CustomerName                  Email  \\\n",
            "5         2          88 2025-03-10      Mark Banks   zgilmore@hotmail.com   \n",
            "6         2          88 2025-03-10      Mark Banks   zgilmore@hotmail.com   \n",
            "7         2          88 2025-03-10      Mark Banks   zgilmore@hotmail.com   \n",
            "8         2          88 2025-03-10      Mark Banks   zgilmore@hotmail.com   \n",
            "17        5          59 2025-02-16  Elizabeth Diaz  amandasmith@rojas.com   \n",
            "\n",
            "                              Country  ProductID  Quantity  UnitPrice_x  \\\n",
            "5   Heard Island and McDonald Islands         36         5       113.71   \n",
            "6   Heard Island and McDonald Islands          9         1       212.66   \n",
            "7   Heard Island and McDonald Islands          5         4        20.73   \n",
            "8   Heard Island and McDonald Islands         35         4       138.62   \n",
            "17                          Lithuania         33         3       269.40   \n",
            "\n",
            "         ProductName Category  UnitPrice_y ShippingDate  ShippingDelay  \\\n",
            "5       Follow Books    Books       113.71   2025-03-20             10   \n",
            "6   Technology Books    Books       212.66   2025-03-20             10   \n",
            "7          Some Toys     Toys        20.73   2025-03-20             10   \n",
            "8           Job Toys     Toys       138.62   2025-03-20             10   \n",
            "17        Child Home     Home       269.40   2025-02-25              9   \n",
            "\n",
            "    OrderTotal  \n",
            "5       568.55  \n",
            "6       212.66  \n",
            "7        82.92  \n",
            "8       554.48  \n",
            "17      808.20  \n",
            "CustomerID  CustomerName     \n",
            "98          Brittany Smith       22805.14\n",
            "79          Jacob Cline          20121.04\n",
            "65          Sylvia Nelson        16500.17\n",
            "80          Nathaniel Fox        16289.17\n",
            "68          Daniel Butler        16124.46\n",
            "61          Grant Garcia         16048.00\n",
            "10          Brandon Howard       15343.62\n",
            "9           Christian Nichols    14955.92\n",
            "94          Pamela Perez         14328.09\n",
            "100         Elizabeth West       13996.12\n",
            "Name: OrderTotal, dtype: float64\n",
            "ProductName\n",
            "Big Home                  77\n",
            "Per Home                  77\n",
            "Follow Electronics        73\n",
            "Mission Clothing          73\n",
            "Congress Books            72\n",
            "Experience Electronics    69\n",
            "Amount Clothing           67\n",
            "Economy Electronics       67\n",
            "Some Toys                 67\n",
            "West Toys                 67\n",
            "Name: Quantity, dtype: int64\n"
          ]
        }
      ]
    },
    {
      "cell_type": "code",
      "source": [
        "revenue_by_category = df.groupby('Category')['OrderTotal'].sum().sort_values(ascending=False)\n",
        "print(revenue_by_category)\n",
        "revenue_pivot = df.pivot_table(index='CustomerName', columns='Category', values='OrderTotal', aggfunc='sum', fill_value=0)\n",
        "print(revenue_pivot)"
      ],
      "metadata": {
        "colab": {
          "base_uri": "https://localhost:8080/"
        },
        "id": "F7IXF7nlhNY7",
        "outputId": "9696f3b6-70b6-4d6a-d4ad-4b2fbf7b48db"
      },
      "execution_count": 13,
      "outputs": [
        {
          "output_type": "stream",
          "name": "stdout",
          "text": [
            "Category\n",
            "Home           160802.46\n",
            "Electronics    142680.97\n",
            "Clothing       140182.94\n",
            "Books          124629.82\n",
            "Toys            72389.04\n",
            "Name: OrderTotal, dtype: float64\n",
            "Category         Books  Clothing  Electronics     Home     Toys\n",
            "CustomerName                                                   \n",
            "Allen Ward     1773.20    844.42         0.00   498.68   896.26\n",
            "Amanda Ho      1087.16    872.37       473.52     0.00   170.94\n",
            "Amber Daniel   1427.18   1112.79      4879.28  3359.42  2442.47\n",
            "April Lucas       0.00      0.00         0.00  2326.02     0.00\n",
            "April Price    3760.02   1311.32      2921.08     0.00  1132.47\n",
            "...                ...       ...          ...      ...      ...\n",
            "Thomas Lester  1316.40    543.55      2463.20  1847.75  2136.37\n",
            "Tina Cook MD   2809.88    915.86      2949.54  4108.91  2438.97\n",
            "Tyler Wilson    192.12   2743.97      3532.68  3563.22  1846.98\n",
            "Vanessa Walls  3743.46   1541.82         0.00   523.56   699.79\n",
            "William Tran    144.09      0.00      2335.51  1496.04     0.00\n",
            "\n",
            "[96 rows x 5 columns]\n"
          ]
        }
      ]
    },
    {
      "cell_type": "markdown",
      "source": [
        "Reshape & Clean"
      ],
      "metadata": {
        "id": "3q7YuEvshkHk"
      }
    },
    {
      "cell_type": "code",
      "source": [
        "reshaped = df[['OrderID', 'ProductName', 'Quantity']].melt(id_vars='OrderID', var_name='Detail', value_name='Value')\n",
        "print(reshaped)"
      ],
      "metadata": {
        "colab": {
          "base_uri": "https://localhost:8080/"
        },
        "id": "0O0K1AWThgY8",
        "outputId": "0286ad28-afa0-4e4e-be42-1a2f8e7e96a1"
      },
      "execution_count": 15,
      "outputs": [
        {
          "output_type": "stream",
          "name": "stdout",
          "text": [
            "      OrderID       Detail               Value\n",
            "0           1  ProductName            Big Home\n",
            "1           1  ProductName     Amount Clothing\n",
            "2           1  ProductName  President Clothing\n",
            "3           1  ProductName          Third Home\n",
            "4           1  ProductName        Follow Books\n",
            "...       ...          ...                 ...\n",
            "1801      298     Quantity                   4\n",
            "1802      298     Quantity                   1\n",
            "1803      299     Quantity                   5\n",
            "1804      299     Quantity                   3\n",
            "1805      300     Quantity                   3\n",
            "\n",
            "[1806 rows x 3 columns]\n"
          ]
        }
      ]
    },
    {
      "cell_type": "code",
      "source": [
        "df['ShippingDateFilled'] = df['ShippingDate'].fillna(method='ffill')\n",
        "print(df[\"ShippingDateFilled\"])"
      ],
      "metadata": {
        "colab": {
          "base_uri": "https://localhost:8080/"
        },
        "id": "PeC36e03iHl_",
        "outputId": "c3cec165-b878-4508-df11-ded6cf43c6ab"
      },
      "execution_count": 17,
      "outputs": [
        {
          "output_type": "stream",
          "name": "stdout",
          "text": [
            "0     2025-04-13\n",
            "1     2025-04-13\n",
            "2     2025-04-13\n",
            "3     2025-04-13\n",
            "4     2025-04-13\n",
            "         ...    \n",
            "898   2025-07-19\n",
            "899   2025-07-19\n",
            "900   2025-04-05\n",
            "901   2025-04-05\n",
            "902   2025-03-08\n",
            "Name: ShippingDateFilled, Length: 903, dtype: datetime64[ns]\n"
          ]
        },
        {
          "output_type": "stream",
          "name": "stderr",
          "text": [
            "/tmp/ipython-input-3868761891.py:1: FutureWarning: Series.fillna with 'method' is deprecated and will raise in a future version. Use obj.ffill() or obj.bfill() instead.\n",
            "  df['ShippingDateFilled'] = df['ShippingDate'].fillna(method='ffill')\n"
          ]
        }
      ]
    },
    {
      "cell_type": "code",
      "source": [
        "print(\"\\nTop 10 Customers by Spend:\\n\", top_customers)\n",
        "print(\"\\nTop 10 Products by Quantity:\\n\", top_products)\n",
        "print(\"\\nRevenue by Category:\\n\", revenue_by_category)"
      ],
      "metadata": {
        "colab": {
          "base_uri": "https://localhost:8080/"
        },
        "id": "fYaw_mZPiZ4A",
        "outputId": "2fa7dd32-8347-4de5-d974-b823e1d4c4c1"
      },
      "execution_count": 18,
      "outputs": [
        {
          "output_type": "stream",
          "name": "stdout",
          "text": [
            "\n",
            "Top 10 Customers by Spend:\n",
            " CustomerID  CustomerName     \n",
            "98          Brittany Smith       22805.14\n",
            "79          Jacob Cline          20121.04\n",
            "65          Sylvia Nelson        16500.17\n",
            "80          Nathaniel Fox        16289.17\n",
            "68          Daniel Butler        16124.46\n",
            "61          Grant Garcia         16048.00\n",
            "10          Brandon Howard       15343.62\n",
            "9           Christian Nichols    14955.92\n",
            "94          Pamela Perez         14328.09\n",
            "100         Elizabeth West       13996.12\n",
            "Name: OrderTotal, dtype: float64\n",
            "\n",
            "Top 10 Products by Quantity:\n",
            " ProductName\n",
            "Big Home                  77\n",
            "Per Home                  77\n",
            "Follow Electronics        73\n",
            "Mission Clothing          73\n",
            "Congress Books            72\n",
            "Experience Electronics    69\n",
            "Amount Clothing           67\n",
            "Economy Electronics       67\n",
            "Some Toys                 67\n",
            "West Toys                 67\n",
            "Name: Quantity, dtype: int64\n",
            "\n",
            "Revenue by Category:\n",
            " Category\n",
            "Home           160802.46\n",
            "Electronics    142680.97\n",
            "Clothing       140182.94\n",
            "Books          124629.82\n",
            "Toys            72389.04\n",
            "Name: OrderTotal, dtype: float64\n"
          ]
        }
      ]
    }
  ]
}